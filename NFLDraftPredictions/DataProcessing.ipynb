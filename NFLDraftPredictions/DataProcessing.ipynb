{
 "cells": [
  {
   "cell_type": "markdown",
   "id": "6f60dc7e",
   "metadata": {},
   "source": [
    "# Get and clean QB data"
   ]
  },
  {
   "cell_type": "code",
   "execution_count": 51,
   "id": "ac992e52",
   "metadata": {},
   "outputs": [],
   "source": [
    "import pandas as pd\n",
    "import numpy as np"
   ]
  },
  {
   "cell_type": "code",
   "execution_count": 52,
   "id": "32e7be3c",
   "metadata": {},
   "outputs": [],
   "source": [
    "data = pd.read_csv('college_statistics.csv')\n",
    "data.fillna(0, inplace=True)\n"
   ]
  },
  {
   "cell_type": "code",
   "execution_count": 53,
   "id": "7d654d4a",
   "metadata": {},
   "outputs": [],
   "source": [
    "qbs = data[data['pos_abbr'] == 'QB'] # get only the rows for quarterbacks\n",
    "# print(len(qbs) / len(qbs['statistic'].unique()))"
   ]
  },
  {
   "cell_type": "code",
   "execution_count": 54,
   "id": "7e6652ae",
   "metadata": {},
   "outputs": [
    {
     "name": "stderr",
     "output_type": "stream",
     "text": [
      "/var/folders/xj/ls8gkxtd0bv2xyc2dbbnh81c0000gn/T/ipykernel_97678/2874094014.py:12: SettingWithCopyWarning: \n",
      "A value is trying to be set on a copy of a slice from a DataFrame.\n",
      "Try using .loc[row_indexer,col_indexer] = value instead\n",
      "\n",
      "See the caveats in the documentation: https://pandas.pydata.org/pandas-docs/stable/user_guide/indexing.html#returning-a-view-versus-a-copy\n",
      "  qb_shrunk[stat] = [None] * len(qb_shrunk) # initialize columns with blank values\n"
     ]
    }
   ],
   "source": [
    "qb_shrunk = qbs[['player_id', 'alt_player_id', 'player_name', 'school']]\n",
    "qb_shrunk.drop_duplicates(subset =\"player_id\", keep = 'first', inplace = True) # now have 1 row for every qb\n",
    "given_stats = ['Completions', 'Passing Attempts', 'Completion Percentage',\n",
    "       'Passing Yards', 'Yards Per Pass Attempt', 'Passing Touchdowns',\n",
    "       'Longest Pass', 'Passer Rating', 'Rushing Attempts',\n",
    "       'Rushing Yards', 'Yards Per Rush Attempt', 'Rushing Touchdowns', 'Interceptions'] # qb stats we have\n",
    "\n",
    "all_stats = [] # want to compile list of all stats we want (total, mean, highest, and lowest for every give stat)\n",
    "for stat in given_stats:\n",
    "    all_stats += ['Total ' + stat, 'Mean ' + stat, 'Highest '+stat, 'Lowest '+stat]\n",
    "for stat in all_stats:\n",
    "    qb_shrunk[stat] = [None] * len(qb_shrunk) # initialize columns with blank values\n",
    "    \n"
   ]
  },
  {
   "cell_type": "code",
   "execution_count": 55,
   "id": "4d66c2eb",
   "metadata": {},
   "outputs": [],
   "source": [
    "qb_ids = qb_shrunk['player_id']\n",
    "for qb in qb_ids:\n",
    "    qbdf = qbs[qbs['player_id'] == qb]\n",
    "    for stat in given_stats:\n",
    "        values = qbdf[qbdf['statistic'] == stat]['value']\n",
    "        if stat == 'Interceptions': # there are defensive and passing interceptions, but they are labeled the same. This gets rid of the defensive one\n",
    "            values = values[values != 0] \n",
    "            \n",
    "        statistics = [sum(values), values.mean(), values.max(), values.min()]\n",
    "        qb_shrunk.loc[qb_shrunk.player_id == qb, \n",
    "                      ['Total ' + stat, 'Mean ' + stat, 'Highest '+stat, 'Lowest '+stat]] = statistics\n",
    "\n",
    "    "
   ]
  },
  {
   "cell_type": "code",
   "execution_count": 56,
   "id": "84df65b6",
   "metadata": {},
   "outputs": [],
   "source": [
    "qb_shrunk.to_csv(\"qb_data_clean.csv\")"
   ]
  },
  {
   "cell_type": "markdown",
   "id": "cd5b5daa",
   "metadata": {},
   "source": [
    "# Wide Receivers"
   ]
  },
  {
   "cell_type": "code",
   "execution_count": 57,
   "id": "395bbc24",
   "metadata": {},
   "outputs": [],
   "source": [
    "wrs = data[data['pos_abbr'] == 'WR'] # get only the rows for wide receivers\n"
   ]
  },
  {
   "cell_type": "code",
   "execution_count": 58,
   "id": "d0060bee",
   "metadata": {},
   "outputs": [
    {
     "name": "stderr",
     "output_type": "stream",
     "text": [
      "/var/folders/xj/ls8gkxtd0bv2xyc2dbbnh81c0000gn/T/ipykernel_97678/2050125994.py:10: SettingWithCopyWarning: \n",
      "A value is trying to be set on a copy of a slice from a DataFrame.\n",
      "Try using .loc[row_indexer,col_indexer] = value instead\n",
      "\n",
      "See the caveats in the documentation: https://pandas.pydata.org/pandas-docs/stable/user_guide/indexing.html#returning-a-view-versus-a-copy\n",
      "  wr_shrunk[stat] = [None] * len(wr_shrunk) # initialize columns with blank values\n"
     ]
    }
   ],
   "source": [
    "wr_shrunk = wrs[['player_id', 'alt_player_id', 'player_name', 'school']]\n",
    "wr_shrunk.drop_duplicates(subset =\"player_id\", keep = 'first', inplace = True) # now have 1 row for every wr\n",
    "given_stats = ['Receptions', 'Receiving Yards', 'Receiving Touchdowns',\n",
    "       'Yards Per Reception', 'Long Reception'] # wr stats we have\n",
    "\n",
    "all_stats = [] # want to compile list of all stats we want (total, mean, highest, and lowest for every give stat)\n",
    "for stat in given_stats:\n",
    "    all_stats += ['Total ' + stat, 'Mean ' + stat, 'Highest '+stat, 'Lowest '+stat]\n",
    "for stat in all_stats:\n",
    "    wr_shrunk[stat] = [None] * len(wr_shrunk) # initialize columns with blank values\n",
    "    "
   ]
  },
  {
   "cell_type": "code",
   "execution_count": 59,
   "id": "ef59505a",
   "metadata": {},
   "outputs": [],
   "source": [
    "# wrs[wrs['player_name'] == 'Michael Thomas']\n",
    "wr_ids = wr_shrunk['player_id']\n",
    "for wr in wr_ids:\n",
    "    wrdf = wrs[wrs['player_id'] == wr]\n",
    "    for stat in given_stats:\n",
    "        values = wrdf[wrdf['statistic'] == stat]['value']\n",
    "            \n",
    "        statistics = [sum(values), values.mean(), values.max(), values.min()]\n",
    "        wr_shrunk.loc[wr_shrunk.player_id == wr, \n",
    "                      ['Total ' + stat, 'Mean ' + stat, 'Highest '+stat, 'Lowest '+stat]] = statistics"
   ]
  },
  {
   "cell_type": "code",
   "execution_count": 60,
   "id": "6eda8478",
   "metadata": {},
   "outputs": [],
   "source": [
    "wr_shrunk.to_csv(\"wr_data_clean.csv\")"
   ]
  },
  {
   "cell_type": "markdown",
   "id": "fc1f816b",
   "metadata": {},
   "source": [
    "# Running Backs"
   ]
  },
  {
   "cell_type": "code",
   "execution_count": 61,
   "id": "3fa080a9",
   "metadata": {},
   "outputs": [],
   "source": [
    "rbs = data[data['pos_abbr'] == 'RB'] # get only the rows for wide receivers\n"
   ]
  },
  {
   "cell_type": "code",
   "execution_count": 62,
   "id": "e618b9bd",
   "metadata": {},
   "outputs": [
    {
     "name": "stderr",
     "output_type": "stream",
     "text": [
      "/var/folders/xj/ls8gkxtd0bv2xyc2dbbnh81c0000gn/T/ipykernel_97678/2570087033.py:11: SettingWithCopyWarning: \n",
      "A value is trying to be set on a copy of a slice from a DataFrame.\n",
      "Try using .loc[row_indexer,col_indexer] = value instead\n",
      "\n",
      "See the caveats in the documentation: https://pandas.pydata.org/pandas-docs/stable/user_guide/indexing.html#returning-a-view-versus-a-copy\n",
      "  rb_shrunk[stat] = [None] * len(rb_shrunk) # initialize columns with blank values\n"
     ]
    }
   ],
   "source": [
    "rb_shrunk = rbs[['player_id', 'alt_player_id', 'player_name', 'school']]\n",
    "rb_shrunk.drop_duplicates(subset =\"player_id\", keep = 'first', inplace = True) # now have 1 row for every wr\n",
    "given_stats = ['Rushing Attempts', 'Rushing Yards', 'Yards Per Rush Attempt', 'Rushing Touchdowns', 'Long Rushing',\n",
    "               'Receptions', 'Receiving Yards', 'Yards Per Reception', \n",
    "               'Long Reception', 'Receiving Touchdowns'] # rb stats we have\n",
    "\n",
    "all_stats = [] # want to compile list of all stats we want (total, mean, highest, and lowest for every give stat)\n",
    "for stat in given_stats:\n",
    "    all_stats += ['Total ' + stat, 'Mean ' + stat, 'Highest '+stat, 'Lowest '+stat]\n",
    "for stat in all_stats:\n",
    "    rb_shrunk[stat] = [None] * len(rb_shrunk) # initialize columns with blank values\n",
    "    \n"
   ]
  },
  {
   "cell_type": "code",
   "execution_count": 63,
   "id": "e509474b",
   "metadata": {},
   "outputs": [],
   "source": [
    "# wrs[wrs['player_name'] == 'Michael Thomas']\n",
    "rb_ids = rb_shrunk['player_id']\n",
    "for rb in rb_ids:\n",
    "    rbdf = rbs[rbs['player_id'] == rb]\n",
    "    for stat in given_stats:\n",
    "        values = rbdf[rbdf['statistic'] == stat]['value']\n",
    "            \n",
    "        statistics = [sum(values), values.mean(), values.max(), values.min()]\n",
    "        rb_shrunk.loc[rb_shrunk.player_id == rb, \n",
    "                      ['Total ' + stat, 'Mean ' + stat, 'Highest '+stat, 'Lowest '+stat]] = statistics"
   ]
  },
  {
   "cell_type": "code",
   "execution_count": 64,
   "id": "ad88a9d4",
   "metadata": {},
   "outputs": [],
   "source": [
    "rb_shrunk.to_csv(\"rb_data_clean.csv\")"
   ]
  },
  {
   "cell_type": "markdown",
   "id": "6bdba16c",
   "metadata": {},
   "source": [
    "# Defensive Backs"
   ]
  },
  {
   "cell_type": "code",
   "execution_count": 65,
   "id": "4f9d78ff",
   "metadata": {},
   "outputs": [],
   "source": [
    "dbs = data[data['pos_abbr'].isin(['S','CB'])] # get only the rows for wide receivers\n"
   ]
  },
  {
   "cell_type": "code",
   "execution_count": 66,
   "id": "a01a2d5e",
   "metadata": {},
   "outputs": [
    {
     "name": "stderr",
     "output_type": "stream",
     "text": [
      "/var/folders/xj/ls8gkxtd0bv2xyc2dbbnh81c0000gn/T/ipykernel_97678/2701274660.py:11: SettingWithCopyWarning: \n",
      "A value is trying to be set on a copy of a slice from a DataFrame.\n",
      "Try using .loc[row_indexer,col_indexer] = value instead\n",
      "\n",
      "See the caveats in the documentation: https://pandas.pydata.org/pandas-docs/stable/user_guide/indexing.html#returning-a-view-versus-a-copy\n",
      "  db_shrunk[stat] = [None] * len(db_shrunk) # initialize columns with blank values\n"
     ]
    }
   ],
   "source": [
    "db_shrunk = dbs[['player_id', 'alt_player_id', 'player_name', 'school']]\n",
    "db_shrunk.drop_duplicates(subset =\"player_id\", keep = 'first', inplace = True) # now have 1 row for every wr\n",
    "given_stats = ['Total Tackles', 'Solo Tackles', 'Assist Tackles',\n",
    "       'Passes Defended', 'Sacks', 'Forced Fumbles', 'Interceptions',\n",
    "       'Interception Yards', 'Interception Touchdowns'] # db stats we have\n",
    "\n",
    "all_stats = [] # want to compile list of all stats we want (total, mean, highest, and lowest for every give stat)\n",
    "for stat in given_stats:\n",
    "    all_stats += ['Total ' + stat, 'Mean ' + stat, 'Highest '+stat, 'Lowest '+stat]\n",
    "for stat in all_stats:\n",
    "    db_shrunk[stat] = [None] * len(db_shrunk) # initialize columns with blank values\n",
    "    "
   ]
  },
  {
   "cell_type": "code",
   "execution_count": 67,
   "id": "9500323b",
   "metadata": {},
   "outputs": [],
   "source": [
    "# wrs[wrs['player_name'] == 'Michael Thomas']\n",
    "db_ids = db_shrunk['player_id']\n",
    "for db in db_ids:\n",
    "    dbdf = dbs[dbs['player_id'] == db]\n",
    "    for stat in given_stats:\n",
    "        values = dbdf[dbdf['statistic'] == stat]['value']\n",
    "            \n",
    "        statistics = [sum(values), values.mean(), values.max(), values.min()]\n",
    "        db_shrunk.loc[db_shrunk.player_id == db, \n",
    "                      ['Total ' + stat, 'Mean ' + stat, 'Highest '+stat, 'Lowest '+stat]] = statistics\n",
    "        \n"
   ]
  },
  {
   "cell_type": "code",
   "execution_count": 68,
   "id": "dbc054b7",
   "metadata": {},
   "outputs": [],
   "source": [
    "db_shrunk.to_csv(\"db_data_clean.csv\")"
   ]
  },
  {
   "cell_type": "markdown",
   "id": "020722e9",
   "metadata": {},
   "source": [
    "# Merge defensive back data"
   ]
  },
  {
   "cell_type": "code",
   "execution_count": 69,
   "id": "02241edd",
   "metadata": {
    "scrolled": true
   },
   "outputs": [],
   "source": [
    "data = pd.read_csv('db_combine_stats.csv', encoding = \"ISO-8859-1\")\n",
    "\n",
    "db_stats = pd.read_csv('db_data_clean.csv')\n",
    "# renaming column for first merge\n",
    "db_stats.rename({'player_name': 'Name'}, axis=1, inplace=True)\n",
    "\n",
    "\n",
    "db_combined = data.merge(db_stats,on=['Name'])\n",
    "# Other data has player_name as column\n",
    "db_combined.rename({'Name':'player_name'}, axis=1, inplace=True)\n",
    "nfl_dp = pd.read_csv('nfl_draft_prospects.csv',delimiter=',')\n",
    "db_combined = nfl_dp.merge(db_combined ,on=['player_id','player_name'])\n",
    "db_combined\n",
    "\n",
    "# output to csv\n",
    "db_combined.to_csv('db_merged.csv')"
   ]
  },
  {
   "cell_type": "markdown",
   "id": "e353d807",
   "metadata": {},
   "source": [
    "# Merge wide receivers / running backs"
   ]
  },
  {
   "cell_type": "code",
   "execution_count": 70,
   "id": "21f6e05a",
   "metadata": {},
   "outputs": [],
   "source": [
    "data = pd.read_csv('qb-wr-rb_combine.csv')\n",
    "\n",
    "wr = data[data['POS']=='WR']\n",
    "\n",
    "\n",
    "wr_stats = pd.read_csv('wr_data_clean.csv')\n",
    "wr_stats.rename({'player_name': 'Name'}, axis=1, inplace=True)\n",
    "\n",
    "\n",
    "wr_combined = wr.merge(wr_stats,on=['Name'])\n",
    "wr_combined.rename({'Name':'player_name'}, axis=1, inplace=True)\n",
    "nfl_dp = pd.read_csv('nfl_draft_prospects.csv',delimiter=',')\n",
    "wr_combined = nfl_dp.merge(wr_combined ,on=['player_id','player_name'])\n",
    "\n",
    "# wr_final = wr_combined.drop(114)\n",
    "wr_combined.to_csv('wr_merged.csv')\n",
    "\n",
    "rb=data[data['POS']=='RB']\n",
    "\n",
    "rb_stats = pd.read_csv('rb_data_clean.csv')\n",
    "rb_stats.rename({'player_name': 'Name'}, axis=1, inplace=True)\n",
    "\n",
    "rb_combined = rb.merge(rb_stats,on=['Name'])\n",
    "rb_combined.rename({'Name':'player_name'}, axis=1, inplace=True)\n",
    "rb_combined = nfl_dp.merge(rb_combined ,on=['player_id','player_name'])\n",
    "\n",
    "# wr_final = wr_combined.drop(114)\n",
    "rb_combined.to_csv('rb_merged.csv')"
   ]
  },
  {
   "cell_type": "markdown",
   "id": "3860f258",
   "metadata": {},
   "source": [
    "# Merge Quarterback data"
   ]
  },
  {
   "cell_type": "code",
   "execution_count": 71,
   "id": "c2d07bcf",
   "metadata": {},
   "outputs": [],
   "source": [
    "qb_cb_data = pd.read_csv('qb-wr-rb_combine.csv')\n",
    "qb_cb_data = qb_cb_data[qb_cb_data['POS'] == \"QB\"]\n",
    "qb_data = pd.read_csv('qb_data_clean.csv')\n",
    "nfl_dp = pd.read_csv('nfl_draft_prospects.csv',delimiter=',')\n",
    "qb_merged = nfl_dp.merge(qb_data,on=['player_id','player_name'])\n",
    "qb_merged.rename(columns={'player_name': 'Name'}, inplace=True)\n",
    "qb_merged_data = qb_cb_data.merge(qb_merged, on=['Name']).drop(['school_x'], axis=1)\n",
    "qb_merged_data.to_csv('qb_merged_data')\n"
   ]
  }
 ],
 "metadata": {
  "kernelspec": {
   "display_name": "Python 3 (ipykernel)",
   "language": "python",
   "name": "python3"
  },
  "language_info": {
   "codemirror_mode": {
    "name": "ipython",
    "version": 3
   },
   "file_extension": ".py",
   "mimetype": "text/x-python",
   "name": "python",
   "nbconvert_exporter": "python",
   "pygments_lexer": "ipython3",
   "version": "3.8.12"
  }
 },
 "nbformat": 4,
 "nbformat_minor": 5
}
